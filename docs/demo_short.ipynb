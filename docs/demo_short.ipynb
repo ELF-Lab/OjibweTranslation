{
 "cells": [
  {
   "cell_type": "code",
   "execution_count": 1,
   "metadata": {},
   "outputs": [],
   "source": [
    "# !pip install pyinflect"
   ]
  },
  {
   "cell_type": "code",
   "execution_count": 2,
   "metadata": {},
   "outputs": [],
   "source": [
    "# install fst parser\n",
    "# !pip install fst-runtime"
   ]
  },
  {
   "cell_type": "code",
   "execution_count": 3,
   "metadata": {},
   "outputs": [],
   "source": [
    "import ojibwe_translation as oj_to_en"
   ]
  },
  {
   "cell_type": "code",
   "execution_count": 4,
   "metadata": {},
   "outputs": [],
   "source": [
    "# Initialization\n",
    "data_folder_path = '../tests/data/'\n",
    "\n",
    "# Initialize new core environment object\n",
    "core_env = oj_to_en.initialize_environment(data_folder_path)\n",
    "# Load FST parser\n",
    "core_env = oj_to_en.load_foma(environment=core_env, \n",
    "                              file_name=\"foma_bin/ojibwe.att\")\n",
    "# Load templates from csv files\n",
    "core_env = oj_to_en.load_templates(environment=core_env)"
   ]
  },
  {
   "cell_type": "code",
   "execution_count": 5,
   "metadata": {},
   "outputs": [
    {
     "name": "stdout",
     "output_type": "stream",
     "text": [
      "Input = niniimaakwa'waa\n",
      "[{'input': \"niniimaakwa'waa\", 'definition': '', 'fst_output': \"niimaakwa'wi+VTA+Ind+Pos+Neu+1SgSubj+3SgProxObj\", 'sentence_structure': {'verb': \"niimaakwa'wi\", 'verb_type': 'vta', 'order': 'ind', 'polarity': 'pos', 'mode': 'neu', 'subject': '1sgsubj', 'object': '3sgproxobj'}, 'translation': '', 'error': 'Lemma not found in dictionary / templates data source'}, {'input': \"niniimaakwa'waa\", 'definition': 'pick it (animate) up or hold it (animate) out with something stick-like', 'fst_output': \"niimaakwa'+VTA+Ind+Pos+Neu+1SgSubj+3SgProxObj\", 'sentence_structure': {'verb': \"niimaakwa'\", 'verb_type': 'vta', 'order': 'ind', 'polarity': 'pos', 'mode': 'neu', 'subject': '1sgsubj', 'object': '3sgproxobj'}, 'translation': 'I pick him/her/it (proximate) up'}, {'input': \"niniimaakwa'waa\", 'definition': 'pick it (animate) up or hold it (animate) out with something stick-like', 'fst_output': \"niimaakwa'+VTA+Ind+Pos+Neu+1SgSubj+3SgProxObj\", 'sentence_structure': {'verb': \"niimaakwa'\", 'verb_type': 'vta', 'order': 'ind', 'polarity': 'pos', 'mode': 'neu', 'subject': '1sgsubj', 'object': '3sgproxobj'}, 'translation': 'I hold him/her/it (proximate) out with something stick-like'}]\n",
      "\n"
     ]
    }
   ],
   "source": [
    "# Translation\n",
    "input = \"niniimaakwa'waa\" # VTA, I pick it up\n",
    "print(f\"Input = {input}\")\n",
    "result = oj_to_en.oj2en_builder(input, environment=core_env)\n",
    "print(result)\n",
    "print(result[0][\"translation\"])"
   ]
  },
  {
   "cell_type": "code",
   "execution_count": 6,
   "metadata": {},
   "outputs": [
    {
     "name": "stdout",
     "output_type": "stream",
     "text": [
      "Input = wiikwaabiiginang\n",
      "[{'input': 'wiikwaabiiginang', 'definition': 'pull h/ with a rope', 'fst_output': 'wiikwaabiigin+VTA+Cnj+Pos+Neu+InclSubj+3SgProxObj', 'sentence_structure': {'verb': 'wiikwaabiigin', 'verb_type': 'vta', 'order': 'cnj', 'polarity': 'pos', 'mode': 'neu', 'subject': 'inclsubj', 'object': '3sgproxobj'}, 'translation': 'If/when we (inclusive) pull him/her/it (proximate) with a rope'}, {'input': 'wiikwaabiiginang', 'definition': 'pull it with a rope', 'fst_output': 'wiikwaabiiginan+VTI+Cnj+Pos+Neu+3SgProxSubj+0SgObj', 'sentence_structure': {'verb': 'wiikwaabiiginan', 'verb_type': 'vti', 'order': 'cnj', 'polarity': 'pos', 'mode': 'neu', 'subject': '3sgproxsubj', 'object': '0sgobj'}, 'translation': 'If/when he/she (proximate) pulls it with a rope'}, {'input': 'wiikwaabiiginang', 'definition': 'pull it with a rope', 'fst_output': 'wiikwaabiiginan+VTI+Cnj+Pos+Neu+3SgProxSubj+0PlObj', 'sentence_structure': {'verb': 'wiikwaabiiginan', 'verb_type': 'vti', 'order': 'cnj', 'polarity': 'pos', 'mode': 'neu', 'subject': '3sgproxsubj', 'object': '0plobj'}, 'translation': 'If/when he/she (proximate) pulls them with a rope'}]\n",
      "If/when we (inclusive) pull him/her/it (proximate) with a rope\n"
     ]
    }
   ],
   "source": [
    "input = \"wiikwaabiiginang\" # VTI, if/when he/she pulls it with a rope\n",
    "\n",
    "print(f\"Input = {input}\")\n",
    "result = oj_to_en.oj2en_builder(input, environment=core_env)\n",
    "print(result)\n",
    "print(result[0][\"translation\"])"
   ]
  },
  {
   "cell_type": "code",
   "execution_count": 7,
   "metadata": {},
   "outputs": [
    {
     "name": "stdout",
     "output_type": "stream",
     "text": [
      "Input = nimaakishin\n",
      "[{'input': 'nimaakishin', 'definition': 's/he is injured by falling or by hitting against something', 'fst_output': 'maakishin+VAI+Ind+Pos+Neu+1SgSubj', 'sentence_structure': {'verb': 'maakishin', 'verb_type': 'vai', 'order': 'ind', 'polarity': 'pos', 'mode': 'neu', 'subject': '1sgsubj', 'object': 'nullobj'}, 'translation': 'I am injured by falling or by hitting against something'}]\n",
      "I am injured by falling or by hitting against something\n"
     ]
    }
   ],
   "source": [
    "input = \"nimaakishin\" # VTI, I'm injured by falling or hitting against something\n",
    "\n",
    "print(f\"Input = {input}\")\n",
    "result = oj_to_en.oj2en_builder(input, environment=core_env)\n",
    "print(result)\n",
    "print(result[0][\"translation\"])"
   ]
  },
  {
   "cell_type": "code",
   "execution_count": 8,
   "metadata": {},
   "outputs": [
    {
     "name": "stdout",
     "output_type": "stream",
     "text": [
      "Input = wii-minjimishkoodesinog\n",
      "[{'input': 'wii-minjimishkoodesinog', 'definition': 'it is pinned down, held in place (with weight)', 'fst_output': 'PVTense/wii+minjimishkoode+VII+Cnj+Neg+Neu+0PlSubj', 'sentence_structure': {'tense': 'future/wish', 'verb': 'minjimishkoode', 'verb_type': 'vii', 'order': 'cnj', 'polarity': 'neg', 'mode': 'neu', 'subject': '0plsubj', 'object': 'nullobj'}, 'translation': 'If/when they (inanimate) do not want to be pinned down (with weight)'}, {'input': 'wii-minjimishkoodesinog', 'definition': 'it is pinned down, held in place (with weight)', 'fst_output': 'PVTense/wii+minjimishkoode+VII+Cnj+Neg+Neu+0PlSubj', 'sentence_structure': {'tense': 'future/wish', 'verb': 'minjimishkoode', 'verb_type': 'vii', 'order': 'cnj', 'polarity': 'neg', 'mode': 'neu', 'subject': '0plsubj', 'object': 'nullobj'}, 'translation': 'If/when they (inanimate) do not want to be held in place (with weight)'}, {'input': 'wii-minjimishkoodesinog', 'definition': 'it is pinned down, held in place (with weight)', 'fst_output': 'PVTense/wii+minjimishkoode+VII+Cnj+Neg+Neu+0SgSubj', 'sentence_structure': {'tense': 'future/wish', 'verb': 'minjimishkoode', 'verb_type': 'vii', 'order': 'cnj', 'polarity': 'neg', 'mode': 'neu', 'subject': '0sgsubj', 'object': 'nullobj'}, 'translation': 'If/when it (inanimate) does not want to be pinned down (with weight)'}, {'input': 'wii-minjimishkoodesinog', 'definition': 'it is pinned down, held in place (with weight)', 'fst_output': 'PVTense/wii+minjimishkoode+VII+Cnj+Neg+Neu+0SgSubj', 'sentence_structure': {'tense': 'future/wish', 'verb': 'minjimishkoode', 'verb_type': 'vii', 'order': 'cnj', 'polarity': 'neg', 'mode': 'neu', 'subject': '0sgsubj', 'object': 'nullobj'}, 'translation': 'If/when it (inanimate) does not want to be held in place (with weight)'}]\n",
      "If/when they (inanimate) do not want to be pinned down (with weight)\n"
     ]
    }
   ],
   "source": [
    "input = \"wii-minjimishkoodesinog\" # VII, \"if/when they do not want to be pinned down (with weight)\"\n",
    "print(f\"Input = {input}\")\n",
    "result = oj_to_en.oj2en_builder(input, environment=core_env)\n",
    "print(result)\n",
    "print(result[0][\"translation\"])"
   ]
  },
  {
   "cell_type": "code",
   "execution_count": 9,
   "metadata": {},
   "outputs": [
    {
     "name": "stdout",
     "output_type": "stream",
     "text": [
      "Input = giwaabamin\n",
      "[{'input': 'giwaabamin', 'definition': 'see h/', 'fst_output': 'waabam+VTA+Ind+Pos+Neu+1SgSubj+2SgObj', 'sentence_structure': {'verb': 'waabam', 'verb_type': 'vta', 'order': 'ind', 'polarity': 'pos', 'mode': 'neu', 'subject': '1sgsubj', 'object': '2sgobj'}, 'translation': 'I see you'}]\n",
      "I see you\n"
     ]
    }
   ],
   "source": [
    "input = \"giwaabamin\" # I see you\n",
    "print(f\"Input = {input}\")\n",
    "result = oj_to_en.oj2en_builder(input, environment=core_env)\n",
    "print(result)\n",
    "print(result[0][\"translation\"])"
   ]
  },
  {
   "cell_type": "markdown",
   "metadata": {},
   "source": [
    "### Performance measurement"
   ]
  },
  {
   "cell_type": "code",
   "execution_count": 15,
   "metadata": {},
   "outputs": [],
   "source": [
    "ojibwe_word_lists = [\n",
    "    \"odaadawa'amaan\", \n",
    "    \"aadawa'am\",\n",
    "    \"nindagwaa'aan\",\n",
    "    \"gii-agwaa'anzig\",\n",
    "    \"agwaa'an\",\n",
    "    \"abweninjii\",\n",
    "    \"gii-abweninjiisiin\", \n",
    "    \"abweninjiid\",\n",
    "    \"gii-minjimishkoodesinoon\", \n",
    "    \"wii-minjimishkoodesinog\", \n",
    "]"
   ]
  },
  {
   "cell_type": "code",
   "execution_count": 16,
   "metadata": {},
   "outputs": [],
   "source": [
    "translate = lambda word: oj_to_en.oj2en_builder(inflected_ojibwe_word=word, \n",
    "                                                environment=core_env)\n",
    "def batch_translation():\n",
    "    \"\"\"Run batch translation and measure run time\"\"\"\n",
    "    return [translate(oj_word) for oj_word in ojibwe_word_lists]"
   ]
  },
  {
   "cell_type": "code",
   "execution_count": null,
   "metadata": {},
   "outputs": [],
   "source": [
    "%timeit output = batch_translation()"
   ]
  },
  {
   "cell_type": "code",
   "execution_count": null,
   "metadata": {},
   "outputs": [],
   "source": [
    "print(output)"
   ]
  },
  {
   "cell_type": "markdown",
   "metadata": {},
   "source": [
    "On average, it takes less than 700 ms to translate 10 words, or less than 70 ms / word."
   ]
  }
 ],
 "metadata": {
  "kernelspec": {
   "display_name": "ojibwe-translation-PODl1D1P-py3.12",
   "language": "python",
   "name": "python3"
  },
  "language_info": {
   "codemirror_mode": {
    "name": "ipython",
    "version": 3
   },
   "file_extension": ".py",
   "mimetype": "text/x-python",
   "name": "python",
   "nbconvert_exporter": "python",
   "pygments_lexer": "ipython3",
   "version": "3.12.6"
  }
 },
 "nbformat": 4,
 "nbformat_minor": 2
}
