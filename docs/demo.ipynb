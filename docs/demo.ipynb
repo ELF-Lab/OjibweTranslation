{
 "cells": [
  {
   "cell_type": "code",
   "execution_count": 16,
   "metadata": {},
   "outputs": [],
   "source": [
    "# !pip install pyinflect"
   ]
  },
  {
   "cell_type": "code",
   "execution_count": 1,
   "metadata": {},
   "outputs": [],
   "source": [
    "# install fst parser\n",
    "# !pip install fst-runtime"
   ]
  },
  {
   "cell_type": "code",
   "execution_count": 2,
   "metadata": {},
   "outputs": [],
   "source": [
    "\n",
    "from fst_runtime.fst import Fst\n",
    "import pandas as pd\n",
    "from pandas import DataFrame"
   ]
  },
  {
   "cell_type": "code",
   "execution_count": null,
   "metadata": {},
   "outputs": [],
   "source": [
    "# import sys\n",
    "import ojibwe_translation as oj_to_en\n",
    "from ojibwe_translation.oj_constants import * "
   ]
  },
  {
   "cell_type": "code",
   "execution_count": 4,
   "metadata": {},
   "outputs": [],
   "source": [
    "data_folder_path = '../tests/data/'\n",
    "\n",
    "# Initialize new core environment object\n",
    "core_env = oj_to_en.initialize_environment(data_folder_path)\n",
    "\n",
    "assert type(core_env) == dict \n",
    "\n",
    "# Load FST parser\n",
    "core_env = oj_to_en.load_foma(environment=core_env, file_name=\"foma_bin/ojibwe.att\")\n",
    "assert core_env[ENV_FST] is not None\n",
    "assert type(core_env[ENV_FST]) == Fst\n",
    "assert core_env[ENV_DATA_PATH] == data_folder_path"
   ]
  },
  {
   "cell_type": "code",
   "execution_count": 5,
   "metadata": {},
   "outputs": [
    {
     "name": "stdout",
     "output_type": "stream",
     "text": [
      "waabam+VTA+Ind+Pos+Neu+3SgProxSubj+2SgObj\n",
      "waabam+VTA+Imp+Sim+2SgSubj+3SgProxObj\n",
      "waabam+VTA+Imp+Sim+2SgSubj+3SgProxObj\n",
      "Passed\n"
     ]
    }
   ],
   "source": [
    "# Test FST parser\n",
    "fst = core_env[ENV_FST]\n",
    "result = [ item.output_string\n",
    "          for item in fst.up_analysis(\"giwaabamig\")\n",
    "         ]\n",
    "print(result[0])\n",
    "assert result[0].startswith(\"waabam+VTA\") \n",
    "\n",
    "result = [ item.output_string\n",
    "          for item in fst.up_analysis(\"waabam\")\n",
    "         ]\n",
    "print(result[0])\n",
    "print(result[0])\n",
    "assert result[0].startswith(\"waabam+VTA\")\n",
    "print(\"Passed\")"
   ]
  },
  {
   "cell_type": "code",
   "execution_count": 6,
   "metadata": {},
   "outputs": [
    {
     "name": "stdout",
     "output_type": "stream",
     "text": [
      "[]\n"
     ]
    }
   ],
   "source": [
    "# Test FST parser\n",
    "fst = core_env[ENV_FST]\n",
    "result = [ item.output_string\n",
    "          for item in fst.up_analysis(\"ningii-debitawaasii\")\n",
    "         ]\n",
    "print(result)"
   ]
  },
  {
   "cell_type": "code",
   "execution_count": 7,
   "metadata": {},
   "outputs": [],
   "source": [
    "# load templates from csv files\n",
    "template_filenames = {\n",
    "    ENV_ALL_DICTIONARY_DF: \"templates/ob_en_dict.csv\",\n",
    "    ENV_VTA_DICTIONARY_DF: \"templates/vta_dict.csv\",\n",
    "    ENV_VTI_DICTIONARY_DF: \"templates/vti_dict.csv\",\n",
    "    ENV_VAI_DICTIONARY_DF: \"templates/vai_dict.csv\",\n",
    "    ENV_VII_DICTIONARY_DF: \"templates/vii_dict.csv\",\n",
    "}    \n",
    "core_env = oj_to_en.load_templates(environment=core_env, filenames=template_filenames)\n",
    "\n",
    "assert core_env[ENV_ALL_DICTIONARY_DF] is not None\n",
    "assert core_env[ENV_VTA_DICTIONARY_DF] is not None\n",
    "assert core_env[ENV_VTI_DICTIONARY_DF] is not None\n",
    "assert core_env[ENV_VAI_DICTIONARY_DF] is not None\n",
    "assert core_env[ENV_VII_DICTIONARY_DF] is not None\n",
    "\n",
    "assert type(core_env[ENV_ALL_DICTIONARY_DF]) == DataFrame\n",
    "assert type(core_env[ENV_VTA_DICTIONARY_DF]) == DataFrame\n",
    "assert type(core_env[ENV_VTI_DICTIONARY_DF]) == DataFrame\n",
    "assert type(core_env[ENV_VAI_DICTIONARY_DF]) == DataFrame\n",
    "assert type(core_env[ENV_VII_DICTIONARY_DF]) == DataFrame"
   ]
  },
  {
   "cell_type": "code",
   "execution_count": 8,
   "metadata": {},
   "outputs": [
    {
     "name": "stdout",
     "output_type": "stream",
     "text": [
      "Input = niniimaakwa'waa\n",
      "[{'input': \"niniimaakwa'waa\", 'definition': '', 'fst_output': \"niimaakwa'wi+VTA+Ind+Pos+Neu+1SgSubj+3SgProxObj\", 'sentence_structure': {'verb': \"niimaakwa'wi\", 'verb_type': 'vta', 'order': 'ind', 'polarity': 'pos', 'mode': 'neu', 'subject': '1sgsubj', 'object': '3sgproxobj'}, 'translation': '', 'error': 'Lemma not found in dictionary / templates data source'}, {'input': \"niniimaakwa'waa\", 'definition': 'pick it (animate) up or hold it (animate) out with something stick-like', 'fst_output': \"niimaakwa'+VTA+Ind+Pos+Neu+1SgSubj+3SgProxObj\", 'sentence_structure': {'verb': \"niimaakwa'\", 'verb_type': 'vta', 'order': 'ind', 'polarity': 'pos', 'mode': 'neu', 'subject': '1sgsubj', 'object': '3sgproxobj'}, 'translation': 'I pick him/her/it (proximate) up'}, {'input': \"niniimaakwa'waa\", 'definition': 'pick it (animate) up or hold it (animate) out with something stick-like', 'fst_output': \"niimaakwa'+VTA+Ind+Pos+Neu+1SgSubj+3SgProxObj\", 'sentence_structure': {'verb': \"niimaakwa'\", 'verb_type': 'vta', 'order': 'ind', 'polarity': 'pos', 'mode': 'neu', 'subject': '1sgsubj', 'object': '3sgproxobj'}, 'translation': 'I hold him/her/it (proximate) out with something stick-like'}]\n",
      "\n"
     ]
    }
   ],
   "source": [
    "input = \"niniimaakwa'waa\" # VTA, I pick it up\n",
    "print(f\"Input = {input}\")\n",
    "result = oj_to_en.oj2en_builder(input, environment=core_env)\n",
    "print(result)\n",
    "print(result[0][\"translation\"])"
   ]
  },
  {
   "cell_type": "code",
   "execution_count": 9,
   "metadata": {},
   "outputs": [
    {
     "name": "stdout",
     "output_type": "stream",
     "text": [
      "Input = niniimaakwa'waa\n",
      "[{'input': \"niniimaakwa'waa\", 'definition': '', 'fst_output': \"niimaakwa'wi+VTA+Ind+Pos+Neu+1SgSubj+3SgProxObj\", 'sentence_structure': {'verb': \"niimaakwa'wi\", 'verb_type': 'vta', 'order': 'ind', 'polarity': 'pos', 'mode': 'neu', 'subject': '1sgsubj', 'object': '3sgproxobj'}, 'translation': '', 'error': 'Lemma not found in dictionary / templates data source'}, {'input': \"niniimaakwa'waa\", 'definition': 'pick it (animate) up or hold it (animate) out with something stick-like', 'fst_output': \"niimaakwa'+VTA+Ind+Pos+Neu+1SgSubj+3SgProxObj\", 'sentence_structure': {'verb': \"niimaakwa'\", 'verb_type': 'vta', 'order': 'ind', 'polarity': 'pos', 'mode': 'neu', 'subject': '1sgsubj', 'object': '3sgproxobj'}, 'translation': 'I pick him/her/it (proximate) up'}, {'input': \"niniimaakwa'waa\", 'definition': 'pick it (animate) up or hold it (animate) out with something stick-like', 'fst_output': \"niimaakwa'+VTA+Ind+Pos+Neu+1SgSubj+3SgProxObj\", 'sentence_structure': {'verb': \"niimaakwa'\", 'verb_type': 'vta', 'order': 'ind', 'polarity': 'pos', 'mode': 'neu', 'subject': '1sgsubj', 'object': '3sgproxobj'}, 'translation': 'I hold him/her/it (proximate) out with something stick-like'}]\n",
      "\n"
     ]
    }
   ],
   "source": [
    "input = \"niniimaakwa'waa\" # VTA, I pick it up\n",
    "print(f\"Input = {input}\")\n",
    "result = oj_to_en.oj2en_builder(input, environment=core_env)\n",
    "print(result)\n",
    "print(result[0][\"translation\"])"
   ]
  },
  {
   "cell_type": "code",
   "execution_count": 10,
   "metadata": {},
   "outputs": [
    {
     "name": "stdout",
     "output_type": "stream",
     "text": [
      "Input = wiikwaabiiginang\n",
      "[{'input': 'wiikwaabiiginang', 'definition': 'pull h/ with a rope', 'fst_output': 'wiikwaabiigin+VTA+Cnj+Pos+Neu+InclSubj+3SgProxObj', 'sentence_structure': {'verb': 'wiikwaabiigin', 'verb_type': 'vta', 'order': 'cnj', 'polarity': 'pos', 'mode': 'neu', 'subject': 'inclsubj', 'object': '3sgproxobj'}, 'translation': 'If/when we (inclusive) pull him/her/it (proximate) with a rope'}, {'input': 'wiikwaabiiginang', 'definition': 'pull it with a rope', 'fst_output': 'wiikwaabiiginan+VTI+Cnj+Pos+Neu+3SgProxSubj+0SgObj', 'sentence_structure': {'verb': 'wiikwaabiiginan', 'verb_type': 'vti', 'order': 'cnj', 'polarity': 'pos', 'mode': 'neu', 'subject': '3sgproxsubj', 'object': '0sgobj'}, 'translation': 'If/when he/she (proximate) pulls it with a rope'}, {'input': 'wiikwaabiiginang', 'definition': 'pull it with a rope', 'fst_output': 'wiikwaabiiginan+VTI+Cnj+Pos+Neu+3SgProxSubj+0PlObj', 'sentence_structure': {'verb': 'wiikwaabiiginan', 'verb_type': 'vti', 'order': 'cnj', 'polarity': 'pos', 'mode': 'neu', 'subject': '3sgproxsubj', 'object': '0plobj'}, 'translation': 'If/when he/she (proximate) pulls them with a rope'}]\n",
      "If/when we (inclusive) pull him/her/it (proximate) with a rope\n"
     ]
    }
   ],
   "source": [
    "input = \"wiikwaabiiginang\" # VTI, if/when he/she pulls it with a rope\n",
    "\n",
    "print(f\"Input = {input}\")\n",
    "result = oj_to_en.oj2en_builder(input, environment=core_env)\n",
    "print(result)\n",
    "print(result[0][\"translation\"])"
   ]
  },
  {
   "cell_type": "code",
   "execution_count": 11,
   "metadata": {},
   "outputs": [
    {
     "name": "stdout",
     "output_type": "stream",
     "text": [
      "Input = nimaakishin\n",
      "[{'input': 'nimaakishin', 'definition': 's/he is injured by falling or by hitting against something', 'fst_output': 'maakishin+VAI+Ind+Pos+Neu+1SgSubj', 'sentence_structure': {'verb': 'maakishin', 'verb_type': 'vai', 'order': 'ind', 'polarity': 'pos', 'mode': 'neu', 'subject': '1sgsubj', 'object': 'nullobj'}, 'translation': 'I am injured by falling or by hitting against something'}]\n",
      "I am injured by falling or by hitting against something\n"
     ]
    }
   ],
   "source": [
    "input = \"nimaakishin\" # VTI, I'm injured by falling or hitting against something\n",
    "\n",
    "print(f\"Input = {input}\")\n",
    "result = oj_to_en.oj2en_builder(input, environment=core_env)\n",
    "print(result)\n",
    "print(result[0][\"translation\"])"
   ]
  },
  {
   "cell_type": "code",
   "execution_count": 12,
   "metadata": {},
   "outputs": [
    {
     "name": "stdout",
     "output_type": "stream",
     "text": [
      "Input = wii-minjimishkoodesinog\n",
      "[{'input': 'wii-minjimishkoodesinog', 'definition': 'it is pinned down, held in place (with weight)', 'fst_output': 'PVTense/wii+minjimishkoode+VII+Cnj+Neg+Neu+0PlSubj', 'sentence_structure': {'tense': 'future/wish', 'verb': 'minjimishkoode', 'verb_type': 'vii', 'order': 'cnj', 'polarity': 'neg', 'mode': 'neu', 'subject': '0plsubj', 'object': 'nullobj'}, 'translation': 'If/when they (inanimate) do not want to be pinned down (with weight)'}, {'input': 'wii-minjimishkoodesinog', 'definition': 'it is pinned down, held in place (with weight)', 'fst_output': 'PVTense/wii+minjimishkoode+VII+Cnj+Neg+Neu+0PlSubj', 'sentence_structure': {'tense': 'future/wish', 'verb': 'minjimishkoode', 'verb_type': 'vii', 'order': 'cnj', 'polarity': 'neg', 'mode': 'neu', 'subject': '0plsubj', 'object': 'nullobj'}, 'translation': 'If/when they (inanimate) do not want to be held in place (with weight)'}, {'input': 'wii-minjimishkoodesinog', 'definition': 'it is pinned down, held in place (with weight)', 'fst_output': 'PVTense/wii+minjimishkoode+VII+Cnj+Neg+Neu+0SgSubj', 'sentence_structure': {'tense': 'future/wish', 'verb': 'minjimishkoode', 'verb_type': 'vii', 'order': 'cnj', 'polarity': 'neg', 'mode': 'neu', 'subject': '0sgsubj', 'object': 'nullobj'}, 'translation': 'If/when it (inanimate) does not want to be pinned down (with weight)'}, {'input': 'wii-minjimishkoodesinog', 'definition': 'it is pinned down, held in place (with weight)', 'fst_output': 'PVTense/wii+minjimishkoode+VII+Cnj+Neg+Neu+0SgSubj', 'sentence_structure': {'tense': 'future/wish', 'verb': 'minjimishkoode', 'verb_type': 'vii', 'order': 'cnj', 'polarity': 'neg', 'mode': 'neu', 'subject': '0sgsubj', 'object': 'nullobj'}, 'translation': 'If/when it (inanimate) does not want to be held in place (with weight)'}]\n",
      "If/when they (inanimate) do not want to be pinned down (with weight)\n"
     ]
    }
   ],
   "source": [
    "input = \"wii-minjimishkoodesinog\" # VII, \"if/when they do not want to be pinned down (with weight)\"\n",
    "print(f\"Input = {input}\")\n",
    "result = oj_to_en.oj2en_builder(input, environment=core_env)\n",
    "print(result)\n",
    "print(result[0][\"translation\"])"
   ]
  },
  {
   "cell_type": "code",
   "execution_count": 13,
   "metadata": {},
   "outputs": [
    {
     "name": "stdout",
     "output_type": "stream",
     "text": [
      "Input = giwaabamin\n",
      "[{'input': 'giwaabamin', 'definition': 'see h/', 'fst_output': 'waabam+VTA+Ind+Pos+Neu+1SgSubj+2SgObj', 'sentence_structure': {'verb': 'waabam', 'verb_type': 'vta', 'order': 'ind', 'polarity': 'pos', 'mode': 'neu', 'subject': '1sgsubj', 'object': '2sgobj'}, 'translation': 'I see you'}]\n",
      "I see you\n"
     ]
    }
   ],
   "source": [
    "input = \"giwaabamin\" # I see you\n",
    "print(f\"Input = {input}\")\n",
    "result = oj_to_en.oj2en_builder(input, environment=core_env)\n",
    "print(result)\n",
    "print(result[0][\"translation\"])"
   ]
  },
  {
   "cell_type": "code",
   "execution_count": 14,
   "metadata": {},
   "outputs": [
    {
     "name": "stdout",
     "output_type": "stream",
     "text": [
      "Input = waakaa'igan\n",
      "[{'input': \"waakaa'igan\", 'fst_output': \"waakaa'igan+ni+sg\", 'error': 'The input is likely not an Ojibwe verb. Please double check.'}]\n",
      "None\n"
     ]
    }
   ],
   "source": [
    "input = \"waakaa'igan\" # A house (noun, not verb)\n",
    "print(f\"Input = {input}\")\n",
    "result = oj_to_en.oj2en_builder(input, environment=core_env)\n",
    "print(result)\n",
    "print(result[0].get(\"translation\"))"
   ]
  },
  {
   "cell_type": "code",
   "execution_count": 15,
   "metadata": {},
   "outputs": [
    {
     "name": "stdout",
     "output_type": "stream",
     "text": [
      "Input word = odaadawa'amaan\n",
      "Lemma definition = go with h/ in a boat\n",
      "Translations:\n",
      "    FST analysis = aadawa'am+VTA+Ind+Pos+Neu+3SgProxSubj+3SgObvObj\n",
      "    Sentence structure = {'verb': \"aadawa'am\", 'verb_type': 'vta', 'order': 'ind', 'polarity': 'pos', 'mode': 'neu', 'subject': '3sgproxsubj', 'object': '3sgobvobj'}\n",
      "    Translation = he/she (proximate) goes with him/her/it (obviative) in a boat\n",
      "    -------------------------\n",
      "    FST analysis = aadawa'am+VTA+Ind+Pos+Neu+3SgProxSubj+3PlObvObj\n",
      "    Sentence structure = {'verb': \"aadawa'am\", 'verb_type': 'vta', 'order': 'ind', 'polarity': 'pos', 'mode': 'neu', 'subject': '3sgproxsubj', 'object': '3plobvobj'}\n",
      "    Translation = he/she (proximate) goes with them (obviative) in a boat\n",
      "    -------------------------\n",
      "==============================\n",
      "Input word = aadawa'am\n",
      "Lemma definition = go with h/ in a boat\n",
      "Translations:\n",
      "    FST analysis = aadawa'am+VTA+Imp+Sim+2SgSubj+3SgProxObj\n",
      "    Sentence structure = {'verb': \"aadawa'am\", 'verb_type': 'vta', 'order': 'imp', 'mode': 'sim', 'subject': '2sgsubj', 'object': '3sgproxobj'}\n",
      "    Translation = (Please) go with him/her/it (proximate) in a boat\n",
      "    -------------------------\n",
      "    FST analysis = aadawa'am+VTA+Imp+Sim+2SgSubj+3PlProxObj\n",
      "    Sentence structure = {'verb': \"aadawa'am\", 'verb_type': 'vta', 'order': 'imp', 'mode': 'sim', 'subject': '2sgsubj', 'object': '3plproxobj'}\n",
      "    Translation = (Please) go with them (proximate) in a boat\n",
      "    -------------------------\n",
      "==============================\n",
      "Input word = nindagwaa'aan\n",
      "Lemma definition = take it off the water or fire (using something); take it out of the pot (using something)\n",
      "Translations:\n",
      "    FST analysis = agwaa'an+VTI+Ind+Pos+Neu+1SgSubj+0SgObj\n",
      "    Sentence structure = {'verb': \"agwaa'an\", 'verb_type': 'vti', 'order': 'ind', 'polarity': 'pos', 'mode': 'neu', 'subject': '1sgsubj', 'object': '0sgobj'}\n",
      "    Translation = I take it off the water or fire (using something)\n",
      "    -------------------------\n",
      "    FST analysis = agwaa'an+VTI+Ind+Pos+Neu+1SgSubj+0SgObj\n",
      "    Sentence structure = {'verb': \"agwaa'an\", 'verb_type': 'vti', 'order': 'ind', 'polarity': 'pos', 'mode': 'neu', 'subject': '1sgsubj', 'object': '0sgobj'}\n",
      "    Translation = I take it out of the pot (using something)\n",
      "    -------------------------\n",
      "==============================\n",
      "Input word = gii-agwaa'anzig\n",
      "Lemma definition = take it off the water or fire (using something); take it out of the pot (using something)\n",
      "Translations:\n",
      "    FST analysis = PVTense/gii+agwaa'an+VTI+Cnj+Neg+Neu+3SgProxSubj+0SgObj\n",
      "    Sentence structure = {'tense': 'past', 'verb': \"agwaa'an\", 'verb_type': 'vti', 'order': 'cnj', 'polarity': 'neg', 'mode': 'neu', 'subject': '3sgproxsubj', 'object': '0sgobj'}\n",
      "    Translation = If/when he/she (proximate) did not take it off the water or fire (using something)\n",
      "    -------------------------\n",
      "    FST analysis = PVTense/gii+agwaa'an+VTI+Cnj+Neg+Neu+3SgProxSubj+0SgObj\n",
      "    Sentence structure = {'tense': 'past', 'verb': \"agwaa'an\", 'verb_type': 'vti', 'order': 'cnj', 'polarity': 'neg', 'mode': 'neu', 'subject': '3sgproxsubj', 'object': '0sgobj'}\n",
      "    Translation = If/when he/she (proximate) did not take it out of the pot (using something)\n",
      "    -------------------------\n",
      "    FST analysis = PVTense/gii+agwaa'an+VTI+Cnj+Neg+Neu+3SgProxSubj+0PlObj\n",
      "    Sentence structure = {'tense': 'past', 'verb': \"agwaa'an\", 'verb_type': 'vti', 'order': 'cnj', 'polarity': 'neg', 'mode': 'neu', 'subject': '3sgproxsubj', 'object': '0plobj'}\n",
      "    Translation = If/when he/she (proximate) did not take them off the water or fire (using something)\n",
      "    -------------------------\n",
      "    FST analysis = PVTense/gii+agwaa'an+VTI+Cnj+Neg+Neu+3SgProxSubj+0PlObj\n",
      "    Sentence structure = {'tense': 'past', 'verb': \"agwaa'an\", 'verb_type': 'vti', 'order': 'cnj', 'polarity': 'neg', 'mode': 'neu', 'subject': '3sgproxsubj', 'object': '0plobj'}\n",
      "    Translation = If/when he/she (proximate) did not take them out of the pot (using something)\n",
      "    -------------------------\n",
      "==============================\n",
      "Input word = agwaa'an\n",
      "Lemma definition = take it off the water or fire (using something); take it out of the pot (using something)\n",
      "Translations:\n",
      "    FST analysis = agwaa'an+VTI+Imp+Sim+2SgSubj+0SgObj\n",
      "    Sentence structure = {'verb': \"agwaa'an\", 'verb_type': 'vti', 'order': 'imp', 'mode': 'sim', 'subject': '2sgsubj', 'object': '0sgobj'}\n",
      "    Translation = (Please) take it off the water or fire (using something)\n",
      "    -------------------------\n",
      "    FST analysis = agwaa'an+VTI+Imp+Sim+2SgSubj+0SgObj\n",
      "    Sentence structure = {'verb': \"agwaa'an\", 'verb_type': 'vti', 'order': 'imp', 'mode': 'sim', 'subject': '2sgsubj', 'object': '0sgobj'}\n",
      "    Translation = (Please) take it out of the pot (using something)\n",
      "    -------------------------\n",
      "    FST analysis = agwaa'an+VTI+Imp+Sim+2SgSubj+0PlObj\n",
      "    Sentence structure = {'verb': \"agwaa'an\", 'verb_type': 'vti', 'order': 'imp', 'mode': 'sim', 'subject': '2sgsubj', 'object': '0plobj'}\n",
      "    Translation = (Please) take them off the water or fire (using something)\n",
      "    -------------------------\n",
      "    FST analysis = agwaa'an+VTI+Imp+Sim+2SgSubj+0PlObj\n",
      "    Sentence structure = {'verb': \"agwaa'an\", 'verb_type': 'vti', 'order': 'imp', 'mode': 'sim', 'subject': '2sgsubj', 'object': '0plobj'}\n",
      "    Translation = (Please) take them out of the pot (using something)\n",
      "    -------------------------\n",
      "==============================\n",
      "Input word = abweninjii\n",
      "Lemma definition = s/he has a sweaty hand\n",
      "Translations:\n",
      "    FST analysis = abweninjii+VAI+Ind+Pos+Neu+3SgProxSubj\n",
      "    Sentence structure = {'verb': 'abweninjii', 'verb_type': 'vai', 'order': 'ind', 'polarity': 'pos', 'mode': 'neu', 'subject': '3sgproxsubj', 'object': 'nullobj'}\n",
      "    Translation = he/she (proximate) has a sweaty hand\n",
      "    -------------------------\n",
      "==============================\n",
      "Input word = gii-abweninjiisiin\n",
      "Lemma definition = s/he has a sweaty hand\n",
      "Translations:\n",
      "    FST analysis = PVTense/gii+abweninjii+VAI+Ind+Neg+Neu+3SgProxSubj\n",
      "    Sentence structure = {'tense': 'past', 'verb': 'abweninjii', 'verb_type': 'vai', 'order': 'ind', 'polarity': 'neg', 'mode': 'neu', 'subject': '3sgproxsubj', 'object': 'nullobj'}\n",
      "    Translation = he/she (proximate) did not have a sweaty hand\n",
      "    -------------------------\n",
      "==============================\n",
      "Input word = abweninjiid\n",
      "Lemma definition = s/he has a sweaty hand\n",
      "Translations:\n",
      "    FST analysis = abweninjii+VAI+Cnj+Pos+Neu+3SgProxSubj\n",
      "    Sentence structure = {'verb': 'abweninjii', 'verb_type': 'vai', 'order': 'cnj', 'polarity': 'pos', 'mode': 'neu', 'subject': '3sgproxsubj', 'object': 'nullobj'}\n",
      "    Translation = If/when he/she (proximate) has a sweaty hand\n",
      "    -------------------------\n",
      "==============================\n",
      "Input word = gii-minjimishkoodesinoon\n",
      "Lemma definition = it is pinned down, held in place (with weight)\n",
      "Translations:\n",
      "    FST analysis = PVTense/gii+minjimishkoode+VII+Ind+Neg+Neu+0PlSubj\n",
      "    Sentence structure = {'tense': 'past', 'verb': 'minjimishkoode', 'verb_type': 'vii', 'order': 'ind', 'polarity': 'neg', 'mode': 'neu', 'subject': '0plsubj', 'object': 'nullobj'}\n",
      "    Translation = they (inanimate) were not pinned down (with weight)\n",
      "    -------------------------\n",
      "    FST analysis = PVTense/gii+minjimishkoode+VII+Ind+Neg+Neu+0PlSubj\n",
      "    Sentence structure = {'tense': 'past', 'verb': 'minjimishkoode', 'verb_type': 'vii', 'order': 'ind', 'polarity': 'neg', 'mode': 'neu', 'subject': '0plsubj', 'object': 'nullobj'}\n",
      "    Translation = they (inanimate) were not held in place (with weight)\n",
      "    -------------------------\n",
      "    FST analysis = PVTense/gii+minjimishkoode+VII+Ind+Neg+Neu+0SgSubj\n",
      "    Sentence structure = {'tense': 'past', 'verb': 'minjimishkoode', 'verb_type': 'vii', 'order': 'ind', 'polarity': 'neg', 'mode': 'neu', 'subject': '0sgsubj', 'object': 'nullobj'}\n",
      "    Translation = it (inanimate) was not pinned down (with weight)\n",
      "    -------------------------\n",
      "    FST analysis = PVTense/gii+minjimishkoode+VII+Ind+Neg+Neu+0SgSubj\n",
      "    Sentence structure = {'tense': 'past', 'verb': 'minjimishkoode', 'verb_type': 'vii', 'order': 'ind', 'polarity': 'neg', 'mode': 'neu', 'subject': '0sgsubj', 'object': 'nullobj'}\n",
      "    Translation = it (inanimate) was not held in place (with weight)\n",
      "    -------------------------\n",
      "==============================\n",
      "Input word = wii-minjimishkoodesinog\n",
      "Lemma definition = it is pinned down, held in place (with weight)\n",
      "Translations:\n",
      "    FST analysis = PVTense/wii+minjimishkoode+VII+Cnj+Neg+Neu+0PlSubj\n",
      "    Sentence structure = {'tense': 'future/wish', 'verb': 'minjimishkoode', 'verb_type': 'vii', 'order': 'cnj', 'polarity': 'neg', 'mode': 'neu', 'subject': '0plsubj', 'object': 'nullobj'}\n",
      "    Translation = If/when they (inanimate) do not want to be pinned down (with weight)\n",
      "    -------------------------\n",
      "    FST analysis = PVTense/wii+minjimishkoode+VII+Cnj+Neg+Neu+0PlSubj\n",
      "    Sentence structure = {'tense': 'future/wish', 'verb': 'minjimishkoode', 'verb_type': 'vii', 'order': 'cnj', 'polarity': 'neg', 'mode': 'neu', 'subject': '0plsubj', 'object': 'nullobj'}\n",
      "    Translation = If/when they (inanimate) do not want to be held in place (with weight)\n",
      "    -------------------------\n",
      "    FST analysis = PVTense/wii+minjimishkoode+VII+Cnj+Neg+Neu+0SgSubj\n",
      "    Sentence structure = {'tense': 'future/wish', 'verb': 'minjimishkoode', 'verb_type': 'vii', 'order': 'cnj', 'polarity': 'neg', 'mode': 'neu', 'subject': '0sgsubj', 'object': 'nullobj'}\n",
      "    Translation = If/when it (inanimate) does not want to be pinned down (with weight)\n",
      "    -------------------------\n",
      "    FST analysis = PVTense/wii+minjimishkoode+VII+Cnj+Neg+Neu+0SgSubj\n",
      "    Sentence structure = {'tense': 'future/wish', 'verb': 'minjimishkoode', 'verb_type': 'vii', 'order': 'cnj', 'polarity': 'neg', 'mode': 'neu', 'subject': '0sgsubj', 'object': 'nullobj'}\n",
      "    Translation = If/when it (inanimate) does not want to be held in place (with weight)\n",
      "    -------------------------\n",
      "==============================\n"
     ]
    }
   ],
   "source": [
    "ojibwe_word_lists = [\n",
    "    \"odaadawa'amaan\", \n",
    "    \"aadawa'am\",\n",
    "    \"nindagwaa'aan\",\n",
    "    \"gii-agwaa'anzig\",\n",
    "    \"agwaa'an\",\n",
    "    \"abweninjii\",\n",
    "    \"gii-abweninjiisiin\", # with negation + past tense\n",
    "    \"abweninjiid\",\n",
    "    \"gii-minjimishkoodesinoon\", # with negation + past tense\n",
    "    \"wii-minjimishkoodesinog\", # conjunction mode + future/wish + negation\n",
    "]\n",
    "\n",
    "# create a shorthand lambda function for translate\n",
    "translate = lambda word: oj_to_en.oj2en_builder(inflected_ojibwe_word=word, \n",
    "                                                environment=core_env)\n",
    "\n",
    "for oj_word in ojibwe_word_lists:\n",
    "    translations = translate(oj_word)\n",
    "    print(f\"Input word = {oj_word}\")\n",
    "    print(\"Lemma definition =\", translations[0][OUTPUT_DEFINITION])\n",
    "    print(\"Translations:\")\n",
    "    for translation_item in translations:\n",
    "        print(\"    FST analysis =\", translation_item[OUTPUT_FST_OUTPUT])\n",
    "        print(\"    Sentence structure =\", translation_item[OUTPUT_SENT_STRUCTURE])\n",
    "        print(\"    Translation =\", translation_item[\"translation\"])\n",
    "        print(\"   \", \"-\"*25)\n",
    "    print(\"=\"*30)"
   ]
  }
 ],
 "metadata": {
  "kernelspec": {
   "display_name": "ojibwe-translation-PODl1D1P-py3.12",
   "language": "python",
   "name": "python3"
  },
  "language_info": {
   "codemirror_mode": {
    "name": "ipython",
    "version": 3
   },
   "file_extension": ".py",
   "mimetype": "text/x-python",
   "name": "python",
   "nbconvert_exporter": "python",
   "pygments_lexer": "ipython3",
   "version": "3.12.6"
  }
 },
 "nbformat": 4,
 "nbformat_minor": 2
}
