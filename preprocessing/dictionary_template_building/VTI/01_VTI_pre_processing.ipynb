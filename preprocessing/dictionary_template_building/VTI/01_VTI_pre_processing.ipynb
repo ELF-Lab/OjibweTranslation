{
 "cells": [
  {
   "cell_type": "markdown",
   "id": "9ad0a6ea-56e4-4ded-80aa-4fd07bf57a90",
   "metadata": {},
   "source": [
    "## 01-VTI Pre-processing\n",
    "In this notebook, we will filter out and does some pre-processing with VTI verbs"
   ]
  },
  {
   "cell_type": "code",
   "execution_count": null,
   "id": "70b8069b-aee3-48b5-a190-67faa123d503",
   "metadata": {},
   "outputs": [],
   "source": [
    "!pip install groq # groq package to connect to LLM API on groq.com"
   ]
  },
  {
   "cell_type": "code",
   "execution_count": null,
   "id": "e772a7cd-8b68-4e0b-860b-abd767608bc3",
   "metadata": {},
   "outputs": [],
   "source": [
    "import pandas as pd\n",
    "import nltk\n",
    "from nltk.tag import pos_tag\n",
    "from nltk.tokenize import word_tokenize\n",
    "# parse the json string\n",
    "import json\n",
    "import re"
   ]
  },
  {
   "cell_type": "code",
   "execution_count": null,
   "id": "8683b2dd-753d-447c-a29e-197013c843f0",
   "metadata": {},
   "outputs": [],
   "source": [
    "### First, we load the dictionary\n",
    "DATA_PATH = \"../../../data/\"\n",
    "filename = DATA_PATH + \"ob_en_dict.csv\"\n",
    "dict_df = pd.read_csv(filename)\n",
    "dict_df.head()"
   ]
  },
  {
   "cell_type": "code",
   "execution_count": null,
   "id": "c3e3596d-b563-4382-b4c8-332e987aad88",
   "metadata": {},
   "outputs": [],
   "source": [
    "filter_tag = \"vti\"\n",
    "df = dict_df.query(\"type.str.contains(@filter_tag)\")\n",
    "df = df.reset_index().drop(columns=\"index\")\n",
    "print(len(df))\n",
    "df.head()"
   ]
  },
  {
   "cell_type": "code",
   "execution_count": null,
   "id": "140e66c8-7236-4166-9a26-576bd53f0887",
   "metadata": {},
   "outputs": [],
   "source": [
    "# find \"s/he\" in the definition\n",
    "term = \"s/he\"\n",
    "temp = df.query(\"definition.str.contains(@term)\")\n",
    "print(len(temp))\n",
    "temp.head()"
   ]
  },
  {
   "cell_type": "code",
   "execution_count": null,
   "id": "8515f4fb-4940-4431-a2fc-1a7e4c76e287",
   "metadata": {},
   "outputs": [],
   "source": [
    "# replace shorthands to full forms (e.g. s/he -> he/she, h/ -> him/her)\n",
    "func = lambda text: (text\n",
    "                     # .replace(\" h/ or it\n",
    "                     .replace(\" s/he\", \" he/she\")\n",
    "                     .replace(\" h/\", \" him/her\")\n",
    "                     # .replace(\" it (animate)\", \" it\")\n",
    "                    )\n",
    "print(func(\"mishear h/\"))\n",
    "print(func(\"use something of his/hers, use (it) for h/\"))"
   ]
  },
  {
   "cell_type": "code",
   "execution_count": null,
   "id": "b99c8f2c-5ef6-4d4e-aec6-26864cfa2437",
   "metadata": {},
   "outputs": [],
   "source": [
    "# apply to the dataframe\n",
    "df[\"def_normalized\"] = df[\"definition\"].apply(func)\n",
    "df"
   ]
  },
  {
   "cell_type": "code",
   "execution_count": null,
   "id": "2178cd23-be80-42b6-a6b3-99f51deaf99f",
   "metadata": {},
   "outputs": [],
   "source": [
    "# using regex to transform it (animate; ...) -> it\n",
    "import re\n",
    "s = \"warm it (animate; mineral), heat it (animate; mineral)\"\n",
    "r_str = \"it \\([^)]*\\)\"\n",
    "re.sub(r_str, \"it\", s)"
   ]
  },
  {
   "cell_type": "code",
   "execution_count": null,
   "id": "150a6330-8b42-4445-9b7f-3630b733ac15",
   "metadata": {},
   "outputs": [],
   "source": [
    "# apply to df\n",
    "df[\"def_normalized\"] = df[\"def_normalized\"].apply(lambda text: re.sub(r_str, \"it\", text))\n",
    "print(\"Completed\")\n",
    "df"
   ]
  },
  {
   "cell_type": "code",
   "execution_count": null,
   "id": "49863644-b304-48a0-b905-381c4e701916",
   "metadata": {},
   "outputs": [],
   "source": [
    "df.query(\"definition.str.contains('or it')\")"
   ]
  },
  {
   "cell_type": "code",
   "execution_count": null,
   "id": "c090290a-97cb-44a6-9ed1-1d1131fd9fbf",
   "metadata": {},
   "outputs": [],
   "source": [
    "# remove 'him/her or it'\n",
    "df[\"def_normalized\"] = df[\"def_normalized\"].apply(lambda text: (text.replace(\"him/her or it\", \"him/her\")\n",
    "                                                                .replace(\"him/heror it\", \"him/her\")# special case, typo in original definition\n",
    "                                                                .replace(\"he/she or it\", \"he/she\")\n",
    "                                                                .replace(\"by it or it\", \"by it\") # special case\n",
    "                                                  \n",
    "                                                 ))\n",
    "\n",
    "\n",
    "df.query(\"def_normalized.str.contains('or it')\") # should return close to zero rows"
   ]
  },
  {
   "cell_type": "code",
   "execution_count": null,
   "id": "5777fd1a-03fd-4dbe-ad18-42b568fc4e53",
   "metadata": {},
   "outputs": [],
   "source": [
    "# replace \"he/she\" with {{object1}}, \n",
    "# which means the object serves as subject in a clause\n",
    "# in example \"like hearing him/her, like how he/she sounds\"\n",
    "obj1_f = lambda text: text.replace(\"he/she\", \"{{object1}}\")\n",
    "\n",
    "print(obj1_f(\"like hearing him/her, like how he/she sounds\"))\n",
    "print(obj1_f(\"hello world\")) # should still return \"hello world\""
   ]
  },
  {
   "cell_type": "code",
   "execution_count": null,
   "id": "34f8a042-dce2-4761-849e-0c126d92607b",
   "metadata": {},
   "outputs": [],
   "source": [
    "# apply to the dataframe\n",
    "df[\"def_template\"] = df[\"def_normalized\"].apply(obj1_f)\n",
    "df.head()"
   ]
  },
  {
   "cell_type": "code",
   "execution_count": null,
   "id": "6aa34e65-3894-4514-b110-280ee0e11114",
   "metadata": {},
   "outputs": [],
   "source": [
    "# find object \"h/\" in the definition\n",
    "term = \"him/her\"\n",
    "df.query(\"def_normalized.str.contains(@term)\").head()"
   ]
  },
  {
   "cell_type": "code",
   "execution_count": null,
   "id": "14aea618-2c02-434e-9fc6-630926f7eea6",
   "metadata": {},
   "outputs": [],
   "source": [
    "# replace object h/ with {{object}}\n",
    "obj_f = lambda text: text.replace(\"him/her\", \"{{object}}\")\n",
    "\n",
    "print(obj_f(\"like hearing him/her, like how he/she sounds\"))\n",
    "print(obj_f(\"hello world\")) # should still return \"hello world\""
   ]
  },
  {
   "cell_type": "code",
   "execution_count": null,
   "id": "603b504f-96f6-46f4-9cfc-14af5ef874de",
   "metadata": {},
   "outputs": [],
   "source": [
    "# apply to the dataframe\n",
    "df[\"def_template\"] = df[\"def_template\"].apply(obj_f)\n",
    "df.head()"
   ]
  },
  {
   "cell_type": "code",
   "execution_count": null,
   "id": "9b221b88-090a-4ce6-be6d-32b0dd069e2f",
   "metadata": {},
   "outputs": [],
   "source": [
    "# replace object 'it' with {{object}}, if the definition **doesn't** already contain {{object}}\n",
    "obj_it_f = lambda text: (text\n",
    "                         .replace(\" it\", \" {{object}}\")           # normal case\n",
    "                         .replace(\"(it)\", \"{{object}}\")           # 'it' inside bracket\n",
    "                         .replace(\"one (animate)\", \"{{object}}\")  # special case\n",
    "                         if \"{{\" not in text\n",
    "                         else text\n",
    "                        )\n",
    "\n",
    "print(obj_it_f(\"warm it (animate; mineral)\")) # should replace 'it' -> '{{object}}'\n",
    "print(obj_it_f(\"warm it (animate; mineral) by {{object}}\")) # should NOT replace 'it' \n",
    "print(obj_it_f(\"hello world\")) # should still return \"hello world\""
   ]
  },
  {
   "cell_type": "code",
   "execution_count": null,
   "id": "281dc0da-4b62-4b16-ab7e-824e70e53a94",
   "metadata": {},
   "outputs": [],
   "source": [
    "# apply to the dataframe\n",
    "df[\"def_template\"] = df[\"def_template\"].apply(obj_it_f)\n",
    "df.head()"
   ]
  },
  {
   "cell_type": "code",
   "execution_count": null,
   "id": "387695cc-a1d4-48aa-a01a-fdfcdbd340e8",
   "metadata": {},
   "outputs": [],
   "source": [
    "# replace object 'them' with {{object}}\n",
    "obj_them_f = lambda text: (text.replace(\"them\", \"{{object}}\")\n",
    "                           if \"{{\" not in text\n",
    "                           else text\n",
    "                          )\n",
    "\n",
    "print(obj_them_f(\"assemble them in a group\")) # should replace 'them' -> {{object}}\n",
    "print(obj_them_f(\"assemble them in a group by {{object}}\")) # should NOT replace 'them'\n",
    "print(obj_them_f(\"hello world\")) # should still return \"hello world\""
   ]
  },
  {
   "cell_type": "code",
   "execution_count": null,
   "id": "e5773ac2-206a-4060-8ce1-26c9ef620d3e",
   "metadata": {},
   "outputs": [],
   "source": [
    "# apply to the dataframe\n",
    "df[\"def_template\"] = df[\"def_template\"].apply(obj_them_f)\n",
    "df.head()"
   ]
  },
  {
   "cell_type": "code",
   "execution_count": null,
   "id": "d5f5d966-1c63-4f58-bed7-934c8b099db0",
   "metadata": {},
   "outputs": [],
   "source": [
    "# check if any rows doesn't contain {{object}}\n",
    "temp_df = df.query(\"def_template.str.contains('{{') == False\")\n",
    "print(len(temp_df)) # should very close to zero\n",
    "if len(temp_df) > 0:\n",
    "    print(temp_df.iloc[0])\n",
    "temp_df "
   ]
  },
  {
   "cell_type": "code",
   "execution_count": null,
   "id": "e0de423b-467d-442e-a762-780510e1d113",
   "metadata": {},
   "outputs": [],
   "source": [
    "# separate definition that has \";\"\n",
    "df.query(\"def_template.str.contains(';')\").head()"
   ]
  },
  {
   "cell_type": "code",
   "execution_count": null,
   "id": "43002f17-2f33-42b3-94c1-9e670f305058",
   "metadata": {},
   "outputs": [],
   "source": [
    "# break into multiple definition\n",
    "s = \"retie {{object}}; rewrap {{object}}\"\n",
    "s.split(\";\")"
   ]
  },
  {
   "cell_type": "code",
   "execution_count": null,
   "id": "51d8f0bb-a87a-4fcb-8ac1-8df97533faf3",
   "metadata": {},
   "outputs": [],
   "source": [
    "# apply to df\n",
    "df[\"templates\"] = df[\"def_template\"].apply(lambda text: text.split(\";\"))\n",
    "df"
   ]
  },
  {
   "cell_type": "code",
   "execution_count": null,
   "id": "461a1f04-69a4-42f0-9978-404a42f0c6c8",
   "metadata": {},
   "outputs": [],
   "source": [
    "# write to VTA file\n",
    "output_filename = DATA_PATH + \"vti_dict.csv\"\n",
    "df.to_csv(output_filename,\n",
    "          index=False\n",
    "          )\n",
    "\n",
    "print(\"Completed\")"
   ]
  },
  {
   "cell_type": "markdown",
   "id": "a471c75c-9a33-485a-aabd-12c7960d9654",
   "metadata": {},
   "source": [
    "### Using LLM to process meanings\n",
    "```\n",
    "Example: a definition of a word is \"seek {{object}} or it; go look for {{object}} or it; search for {{object}} or it\", if there are multiple meanings, split into multiple template in JSON format: {\"verbs\": [\"seek\", \"look for\", \"search for\"], \"templates\":[\"seek {{object}} or it\", \"go look for {{object}} or it\", \"search for {{object}} or it\"]}. \n",
    "Output JSON format only, no explanation or discussion. Now rephrase a new definition \"reach for, feel for {{object}}\".\n",
    "```"
   ]
  },
  {
   "cell_type": "code",
   "execution_count": null,
   "id": "8c8eb978-ae33-4580-9d3e-f1cc1d76ac09",
   "metadata": {},
   "outputs": [],
   "source": [
    "import sys  \n",
    "sys.path.insert(1, '../') # LLM_api.py is in the parent folder"
   ]
  },
  {
   "cell_type": "markdown",
   "id": "0e3c8ea4-03bb-48bf-b812-94f278ccea1a",
   "metadata": {},
   "source": [
    "### Groq API key \n",
    "Please go to Groq.com to sign up and get an API key, put it into `src/01_data_preprocessing/env/credentials.json` as in the following format\n",
    "\n",
    "{\"GROQ_API_KEY\":\"your_api_key\"\n",
    "}"
   ]
  },
  {
   "cell_type": "code",
   "execution_count": null,
   "id": "0b24c9a7-ecd0-4d88-ad7e-bc0b4c9b5f13",
   "metadata": {},
   "outputs": [],
   "source": [
    "import LLM_api\n",
    "from LLM_api import hello, get_api_key, connect, send_request\n",
    "\n",
    "hello(\"API\")"
   ]
  },
  {
   "cell_type": "code",
   "execution_count": null,
   "id": "3111e93e-86e6-4fe8-8c9b-c28f99c56e80",
   "metadata": {},
   "outputs": [],
   "source": [
    "api_key = get_api_key()\n",
    "print(len(api_key))"
   ]
  },
  {
   "cell_type": "code",
   "execution_count": null,
   "id": "a33957cd-334b-4f50-b144-f6aed6f89040",
   "metadata": {},
   "outputs": [],
   "source": [
    "llm = connect(api_key)"
   ]
  },
  {
   "cell_type": "code",
   "execution_count": null,
   "id": "42c3d1e9-a460-4b50-a7ed-1d326510c6df",
   "metadata": {},
   "outputs": [],
   "source": [
    "s = \"JSON What is the biggest city of New York state?\"\n",
    "send_request(s, llm)"
   ]
  },
  {
   "cell_type": "code",
   "execution_count": null,
   "id": "c0494fc5-6541-4b25-9bc8-f6fe855959ba",
   "metadata": {},
   "outputs": [],
   "source": [
    "word_def = 'reach for, feel for {{object}}'\n",
    "# prompt_template = 'Example: a definition of a word is \"seek {{object}} or it; go look for {{object}} or it; search for {{object}} or it\", if there are multiple meanings, split into multiple template in JSON format: {\"verbs\": [\"seek\", \"look for\", \"search for\"], \"templates\":[\"seek {{object}} or it\", \"go look for {{object}} or it\", \"search for {{object}} or it\"]}. Output JSON format only, no explanation or discussion, skip subject, prepositions, examples, location, etc. Only keep object and verb. Keep \"(it)\" as \"(it)\". Now rephrase a new definition '\n",
    "prompt_template = \"\"\"Example: a definition of a word is \"seek {{object}} or it; go look for {{object}} or it; search for {{object}} or it\", if there are multiple meanings, split into multiple template in JSON format: \n",
    "{\"verbs\": [\"seek\", \"look for\", \"search for\"], \"templates\":[\"seek {{object}} or it\", \"go look for {{object}} or it\", \"search for {{object}} or it\"]}. \n",
    "Output JSON format only, no explanation or discussion, skip subject, prepositions, examples, location, etc. Only keep object and verb. Include verbs that appear in the original definition only. Do not invent new verbs. \n",
    "Keep the meaning exactly as from the original definition. Now process a new definition\n",
    "\"\"\"\n",
    "f'{prompt_template}: \"{word_def}\"'"
   ]
  },
  {
   "cell_type": "code",
   "execution_count": null,
   "id": "13e50234-925c-4153-983d-79ded4d35288",
   "metadata": {},
   "outputs": [],
   "source": [
    "print(word_def)"
   ]
  },
  {
   "cell_type": "code",
   "execution_count": null,
   "id": "f8c1ac1a-8e25-44f7-a0b7-6f75c9f24d27",
   "metadata": {},
   "outputs": [],
   "source": [
    "result = send_request(f'{prompt_template} \"{word_def}\"', llm)\n",
    "print(result)"
   ]
  },
  {
   "cell_type": "code",
   "execution_count": null,
   "id": "42d5d0f8-67c7-4543-b9bf-5ea0414c11ee",
   "metadata": {},
   "outputs": [],
   "source": [
    "# try another example\n",
    "word_def = \"smudge, cense it; smoke it (for preservation)\"\n",
    "result = send_request(f'{prompt_template} \"{word_def}\"', llm)\n",
    "print(result)"
   ]
  },
  {
   "cell_type": "code",
   "execution_count": null,
   "id": "53fddb07-c82f-433a-96ff-e1c475cb64ff",
   "metadata": {},
   "outputs": [],
   "source": [
    "# try another example\n",
    "word_def = \"wish for, hope for, want, desire {{object}} (something difficult to get)\"\n",
    "result = send_request(f'{prompt_template} \"{word_def}\"', llm)\n",
    "print(result)"
   ]
  },
  {
   "cell_type": "code",
   "execution_count": null,
   "id": "3be27b24-0d61-4628-8c0e-dfefcd6e2052",
   "metadata": {},
   "outputs": [],
   "source": [
    "# try another example\n",
    "word_def = \"see {{object}} at a certain distance\"\n",
    "result = send_request(f'{prompt_template} \"{word_def}\"', llm)\n",
    "print(result)"
   ]
  },
  {
   "cell_type": "code",
   "execution_count": null,
   "id": "bb06a264-2bbb-4afc-aaa9-93ef000e0da5",
   "metadata": {},
   "outputs": [],
   "source": [
    "# try another example\n",
    "word_def = \"carry {{object}} from a certain place on the shoulder\"\n",
    "result = send_request(f'{prompt_template} \"{word_def}\"', llm)\n",
    "print(result)"
   ]
  },
  {
   "cell_type": "code",
   "execution_count": null,
   "id": "824a784a-3087-4c36-b6d0-b00a11369278",
   "metadata": {},
   "outputs": [],
   "source": [
    "# test searching for {{something}}\n",
    "s = \"{{subject}} want to do something with {{object}} at a {{distance}}\"\n",
    "r = \"({{\\w+}})\"\n",
    "\n",
    "slots = re.findall(r, s)\n",
    "print(slots)\n",
    "print(set(slots).difference({\"{{object}}\"})) # remove {{object}} from template"
   ]
  },
  {
   "cell_type": "code",
   "execution_count": null,
   "id": "34368bab-84fb-4998-a765-5777ef996c7c",
   "metadata": {},
   "outputs": [],
   "source": [
    "def check_json_format(json_obj):\n",
    "    \"\"\"\n",
    "        Check if the Json object format is valid ({\"verbs\" : [], \"templates\" : []}\n",
    "    \"\"\"\n",
    "    result = False\n",
    "    if type(json_obj) != dict:\n",
    "        print(\"Wrong data type, expecting json dict object\")\n",
    "        return False\n",
    "\n",
    "    if len(json_obj.keys()) != 2:\n",
    "        print(\"Wrong keys, expecting 2 keys\")\n",
    "        return False\n",
    "\n",
    "    if set(json_obj.keys()) != {\"verbs\", \"templates\"}:\n",
    "        print(set(json_obj.keys()))\n",
    "        print(\"Wrong keys items, expecting verbs and templates\")\n",
    "        return False\n",
    "\n",
    "    if (json_obj[\"verbs\"] is None or \n",
    "        type(json_obj[\"verbs\"]) != list or\n",
    "        len(json_obj[\"verbs\"]) <= 0\n",
    "       ):\n",
    "        print(\"Wrong verbs, expecting at least 1 verb\")\n",
    "        return False\n",
    "        \n",
    "    if (json_obj[\"templates\"] is None or \n",
    "        type(json_obj[\"templates\"]) != list or\n",
    "        len(json_obj[\"templates\"]) <= 0\n",
    "       ):\n",
    "        print(\"Wrong templates, expecting at least 1 template\")\n",
    "        return False\n",
    "\n",
    "    for template in json_obj[\"templates\"]:\n",
    "        # look for invalid slots such as {{subject}}, {{distance}}, etc\n",
    "        r = \"({{\\w+}})\"\n",
    "        slots = re.findall(r, template)\n",
    "        if len(set(slots).difference({\"{{object}}\"})) > 0: # there are more slots than {{object}}\n",
    "            print(\"Wrong slots in template =\", slots)\n",
    "            return False\n",
    "            \n",
    "\n",
    "    # passed all condition\n",
    "    result = True\n",
    "    return result\n",
    "\n",
    "assert check_json_format(dict()) == False\n",
    "assert check_json_format({\"verbs\":[\"verb\"], \"templates\":[\"template 1\", \"template 2\"]}) == True\n",
    "assert check_json_format({\"verbs\":[], \"templates\":[\"template 1\", \"template 2\"]}) == False\n",
    "assert check_json_format({\"verbs\":[\"verb1\", \"verb2\"], \"templates\":[\"template 1\", \"template 2\"]}) == True\n",
    "assert check_json_format({\"verbs\":[\"verb1\"], \"templates\":[], \"something else\":[]}) == False\n",
    "assert check_json_format({\"verbs\":[\"verb1\"], \"templates\":[], \"POS\":[]}) == False\n",
    "assert check_json_format({\"verbs\":[\"verb1\"], \"templates\":[\"{{subject}} see {{object}}\"]}) == False\n",
    "\n",
    "\n",
    "print(\"Passed\")"
   ]
  },
  {
   "cell_type": "code",
   "execution_count": null,
   "id": "afa0a24e-8c92-44e3-b093-a757b1d201a9",
   "metadata": {},
   "outputs": [],
   "source": [
    "\n",
    "\n",
    "def str2json(s):\n",
    "    \"\"\"\n",
    "        convert string to json format and check if the format is valid \n",
    "    \"\"\"\n",
    "    result = 0\n",
    "    # clean and remove \\n\n",
    "    s = s.strip().replace(\"\\n\", \"\") \n",
    "    # extract {...} using regex\n",
    "    re_str = r\"{.*}\"\n",
    "    json_str = \"\"\n",
    "    try:\n",
    "        json_str = re.findall(re_str, s)[0]\n",
    "        result = json.loads(json_str)\n",
    "\n",
    "        if check_json_format(result):\n",
    "            print(\"JSON format check OK\")\n",
    "        else:\n",
    "            print(f\"Wrong JSON format. Item = \\n{result}\")\n",
    "            return \"\"\n",
    "    except:\n",
    "        # return json_str # return original\n",
    "        print(\"Error parsing json =\", json_str)\n",
    "        return \"\"\n",
    "\n",
    "    return result\n",
    "    \n",
    "ex = str2json(result)\n",
    "print(ex)\n",
    "print(ex['verbs'])\n",
    "print(ex['templates'])"
   ]
  },
  {
   "cell_type": "code",
   "execution_count": null,
   "id": "d72d5776-bf55-4bad-826c-485ef83309fb",
   "metadata": {},
   "outputs": [],
   "source": [
    "# try a more complex example\n",
    "s = \"set {{object}} back, put {{object}} back; replace {{object}}\"\n",
    "str2json(send_request(f'{prompt_template}: \"{s}\"', llm))['templates']"
   ]
  },
  {
   "cell_type": "code",
   "execution_count": null,
   "id": "74d59155-416f-4f8a-b051-fb3a8e6c2ea6",
   "metadata": {},
   "outputs": [],
   "source": [
    "# create place holder column\n",
    "df[\"llm_templates\"] = df[\"def_template\"].apply(lambda x: \"\")\n",
    "df.head()"
   ]
  },
  {
   "cell_type": "code",
   "execution_count": null,
   "id": "68cfada0-e18d-48b2-b9db-3484bfdd97b6",
   "metadata": {},
   "outputs": [],
   "source": [
    "llm_func = lambda text: str2json(send_request(f'{prompt_template}: \"{text}\"', llm))"
   ]
  },
  {
   "cell_type": "code",
   "execution_count": null,
   "id": "ff0bb05a-3252-4b53-a24d-54507615e3d1",
   "metadata": {
    "scrolled": true
   },
   "outputs": [],
   "source": [
    "n = len(df)\n",
    "print(\"Len df =\", n)\n",
    "max_row = n # set to n for full set\n",
    "\n",
    "error_count = 0\n",
    "\n",
    "for i in range(max_row):\n",
    "    print(f\"Processing row {i+1} / {max_row}, {(i+1)*100/max_row:.0f} %\")\n",
    "    if df.iloc[i][\"llm_templates\"] != \"\":\n",
    "        print(\"Already processed. Skipping...\")\n",
    "        print(\"-----------------------------\")\n",
    "        continue\n",
    "        \n",
    "    parsed_item = llm_func(df.iloc[i][\"def_template\"].strip().lower())\n",
    "    \n",
    "    if parsed_item == \"\":\n",
    "        # error parsing?\n",
    "        print(\"Error parsing result\")\n",
    "        error_count += 1\n",
    "        print(\"Error count so far =\", error_count)\n",
    "        \n",
    "    print(\"\\tDefinition =\", df.iloc[i][\"definition\"])\n",
    "    print(\"\\tInput =\", df.iloc[i][\"def_template\"])\n",
    "    print(\"\\tParsed =\", parsed_item)\n",
    "    print(\"-----------------------------\")\n",
    "    df.at[i, \"llm_templates\"] = parsed_item\n",
    "    \n",
    "print(\"Completed\")\n",
    "print(\"Error count =\", error_count)"
   ]
  },
  {
   "cell_type": "code",
   "execution_count": null,
   "id": "59203542-888d-4de5-93a4-0cd7ec853829",
   "metadata": {
    "scrolled": true
   },
   "outputs": [],
   "source": [
    "count = 0\n",
    "for i in range(len(df)):\n",
    "    # check for invalid LLM output (empty, or dictionary has different formats\n",
    "    if df.iloc[i][\"llm_templates\"] == \"\" or 'templates' not in df.iloc[i][\"llm_templates\"].keys():\n",
    "        count += 1\n",
    "        print(\"Id =\", i)\n",
    "        print(\"Definition =\", df.iloc[i][\"definition\"])\n",
    "        print(\"Definition normalized =\", df.iloc[i][\"def_normalized\"])\n",
    "        print(\"Definition extracted by code =\", df.iloc[i][\"templates\"])\n",
    "        print(\"Definition template (used as input for LLM) =\", df.iloc[i][\"def_template\"])\n",
    "        print(\"LLM parsed text =\", df.iloc[i][\"llm_templates\"])\n",
    "        print(\"-----------------\")\n",
    "\n",
    "print(\"Total count =\", count)"
   ]
  },
  {
   "cell_type": "code",
   "execution_count": null,
   "id": "daa26a5c-0c7a-4ccb-87e5-dbd4d8342c09",
   "metadata": {},
   "outputs": [],
   "source": [
    "# retry failed examples\n",
    "error_count = 0\n",
    "\n",
    "for i in range(max_row):\n",
    "    if df.iloc[i][\"llm_templates\"] != \"\":\n",
    "        continue\n",
    "        \n",
    "    parsed_item = llm_func(df.iloc[i][\"def_template\"].strip().lower())\n",
    "    \n",
    "    if parsed_item == \"\":\n",
    "        # error parsing?\n",
    "        print(\"Error parsing result\")\n",
    "        error_count += 1\n",
    "        print(\"Error count so far =\", error_count)\n",
    "        \n",
    "    print(\"\\tDefinition =\", df.iloc[i][\"definition\"])\n",
    "    print(\"\\tParsed =\", parsed_item)\n",
    "    print(\"-----------------------------\")\n",
    "    df.at[i, \"llm_templates\"] = parsed_item\n",
    "    \n",
    "print(\"Completed\")\n",
    "print(\"Error count =\", error_count)"
   ]
  },
  {
   "cell_type": "code",
   "execution_count": null,
   "id": "400c8e51-4c83-42e4-8b9f-febc92ffba99",
   "metadata": {},
   "outputs": [],
   "source": [
    "# write to VTA file\n",
    "output_filename = DATA_PATH + \"vti_dict.csv\"\n",
    "df.to_csv(output_filename,\n",
    "          index=False\n",
    "          )\n",
    "\n",
    "output_filename = DATA_PATH + \"vti_dict.json\"\n",
    "df.to_json(output_filename,\n",
    "          orient=\"records\"\n",
    "          )\n",
    "\n",
    "\n",
    "print(\"Completed\")"
   ]
  }
 ],
 "metadata": {
  "kernelspec": {
   "display_name": "Python 3 (ipykernel)",
   "language": "python",
   "name": "python3"
  },
  "language_info": {
   "codemirror_mode": {
    "name": "ipython",
    "version": 3
   },
   "file_extension": ".py",
   "mimetype": "text/x-python",
   "name": "python",
   "nbconvert_exporter": "python",
   "pygments_lexer": "ipython3",
   "version": "3.11.6"
  }
 },
 "nbformat": 4,
 "nbformat_minor": 5
}
